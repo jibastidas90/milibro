{
 "cells": [
  {
   "cell_type": "markdown",
   "metadata": {},
   "source": [
    "# Ciberataques\n",
    "\n",
    "El Foro Europeo de Ciberpolítica advierte que es “necesaria y crítica” una línea de actuación común frente al aumento de ciberataques cada vez más complejos.\n",
    "\n",
    "La forma más simple de definir qué es un ciberataque es la explotación deliberada de sistemas informáticos, empresas y redes dependientes de la tecnología. Estos ataques utilizan códigos maliciosos para alterar la lógica o los datos del ordenador, lo que genera consecuencias perjudiciales que pueden comprometer información y provocar delitos cibernéticos, como el robo de identidad.\n",
    "\n",
    "## Qué es un Ciberataque?\n",
    "\n",
    "En el extremo más complejo desde el punto de vista técnico, los ciberataques pueden implicar un equipo muy unido de hackers de élite que trabajan bajo el mandato de un estado nación. Su intención es crear programas que aprovechen fallas previamente desconocidas en el software. Así consiguen filtrar datos confidenciales, dañar infraestructura clave o desarrollar una bases para futuros ataques.\n",
    "\n",
    "Los grupos de piratería más peligrosos se conocen como “amenazas persistentes avanzadas” (APT, por sus siglas en inglés). Pero no todos los ciberataques involucran habilidades técnicas de alto nivel o actores patrocinados por el estado. En el extremo opuesto de la escala se encuentran los hacks que aprovechan los errores de seguridad largamente fijados, las ambigüedades en las interfaces de usuario e incluso una buena supervisión humana pasada de moda.\n",
    "\n",
    "Muchos piratas informáticos son oportunistas y no escogen los objetivos más valiosos, sino los menos defendidos, como los ordenadores que no tienen instaladas actualizaciones de seguridad o los usuarios que hacen clic en los enlaces maliciosos.\n",
    "\n",
    "## Tipos de Ciberataques\n",
    "\n",
    "\n",
    "![](C:\\Users\\Ignacio\\Desktop\\milibro)\n",
    "\n",
    "## MALWARE\n",
    "Malware se refiere a varias formas de software dañino, como virus y ransomware. Una vez que entra en el ordenador, puede causar todo tipo de estragos, desde tomar el control de la máquina y monitorear las acciones y pulsaciones de teclas, hasta enviar silenciosamente todo tipo de datos confidenciales a la base de origen del atacante.\n",
    "\n",
    "Es uno de los más conocidos para el público general y se presenta de formas tan habituales como una alerta de antivirus en la pantalla o tras hacer clic erróneamente en un archivo adjunto de correo electrónico malicioso. Es muy efectivo y los atacantes suelen utilizarlo para entrar en los ordenadores de usuarios particulares y en oficinas.\n",
    "\n",
    "Aunque existen varios métodos para introducir este ataque en un ordenador, en algún momento requiere que el usuario realice una acción para instalar el malware.\n",
    "\n",
    "## PHISHING\n",
    "También se conoce como suplantación de identidad, ya que suele ser la principal vía que utilizan. Para combatir este tipo de ataques, es esencial comprender la importancia de verificar los remitentes de correo electrónico y los archivos adjuntos y enlaces.\n",
    "\n",
    "Los atacantes saben que lo más probable es que un usuario no abra un archivo adjunto al azar o haga clic en un enlace de cualquier correo electrónico. Por ello, a menudo simulan ser alguien o alguna otra cosa para conseguir que se realice la acción deseada. Como dependen de la curiosidad y los impulsos humanos, estos ataques son difíciles de detener.\n",
    "\n",
    "## ATAQUE DE INYECCIÓN SQL\n",
    "El SQL es un lenguaje de programación de consulta estructurado y utilizado para comunicarse con las bases de datos. Muchos de los servidores que almacenan información crítica para sitios web y servicios lo usan.\n",
    "\n",
    "Un ataque de inyección SQL apunta específicamente a este tipo de servidor, utilizando código malicioso para extraer su información. Esto es especialmente problemático si el almacenamiento incluye datos privados de clientes, como números de tarjetas de crédito, nombres de usuario y contraseñas.\n",
    "\n",
    "## CROSS-SITE SCRIPTING (XSS)\n",
    "A diferencia del ataque a SQL, este tipo persigue al usuario y no al servidor. Implica la inyección de código malicioso en un sitio web, que se ejecuta en el navegador del usuario cuando este accede al mismo.\n",
    "\n",
    "Una de las formas más comunes para implementar este tipo de ataque entre sitios es mediante la inyección de código malicioso en un comentario o un script que se puede ejecutar automáticamente.\n",
    "\n",
    "Los ataques de secuencias de comandos en sitios cruzados pueden dañar significativamente la reputación de un sitio web al poner en riesgo la información de los usuarios sin ninguna indicación de que haya ocurrido algo malicioso.\n",
    "\n",
    "## DENEGACIÓN DE SERVICIO (DOS)\n",
    "Consiste en saturar de tráfico un sitio web, sobrecargando su servidor para que le sea imposible publicar su contenido a los visitantes. Aunque esto puede ocurrir porque el enlace de una noticia masiva se haya roto, a menudo es provocado con fines maliciosos.\n",
    "\n",
    "En algunos casos, estos ataques DoS son realizados por muchos ordenadores al mismo tiempo. Son muy difíciles de superar debido a que el atacante aparece simultáneamente desde diferentes direcciones IP en todo el mundo, lo que dificulta aún más la determinación del origen.\n",
    "\n",
    "## CONCLUSIÓN\n",
    "Conocer qué es un ciberataque no siempre es suficientes para evitarlos. Los hackers parecen ir un paso por delante, por lo que las empresas se ven obligadas a tomar todas las medidas a su alcance. Si no se toman las necesarias, los atacantes están atentos para tratar de robar dinero, información e incluso interrumpir un negocio.\n",
    "\n",
    "Gran parte de los ciberataques sí que se pueden prevenir o detectar con prácticas de seguridad básicas. Ser diligente con respecto a la ciberseguridad en el lugar de trabajo y en el hogar puede marcar una gran diferencia."
   ]
  }
 ],
 "metadata": {
  "kernelspec": {
   "display_name": "Python 3.10.8 64-bit",
   "language": "python",
   "name": "python3"
  },
  "language_info": {
   "codemirror_mode": {
    "name": "ipython",
    "version": 3
   },
   "file_extension": ".py",
   "mimetype": "text/x-python",
   "name": "python",
   "nbconvert_exporter": "python",
   "pygments_lexer": "ipython3",
   "version": "3.10.8"
  },
  "vscode": {
   "interpreter": {
    "hash": "0ea5e1da65dbe3022db5fa22b001ff8ffec5918ae468b4862f3688114d8b7f2f"
   }
  },
  "widgets": {
   "application/vnd.jupyter.widget-state+json": {
    "state": {},
    "version_major": 2,
    "version_minor": 0
   }
  }
 },
 "nbformat": 4,
 "nbformat_minor": 4
}
